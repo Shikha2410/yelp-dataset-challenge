{
 "cells": [
  {
   "cell_type": "code",
   "execution_count": 1,
   "metadata": {
    "scrolled": false
   },
   "outputs": [
    {
     "name": "stdout",
     "output_type": "stream",
     "text": [
      "Populating the interactive namespace from numpy and matplotlib\n"
     ]
    }
   ],
   "source": [
    "%pylab inline"
   ]
  },
  {
   "cell_type": "code",
   "execution_count": 2,
   "metadata": {},
   "outputs": [
    {
     "name": "stderr",
     "output_type": "stream",
     "text": [
      "c:\\python27\\lib\\site-packages\\gensim\\utils.py:860: UserWarning: detected Windows; aliasing chunkize to chunkize_serial\n",
      "  warnings.warn(\"detected Windows; aliasing chunkize to chunkize_serial\")\n"
     ]
    }
   ],
   "source": [
    "import time\n",
    "import datetime\n",
    "\n",
    "import cPickle as pickle\n",
    "import matplotlib.pyplot as plt\n",
    "import nltk\n",
    "import numpy as np\n",
    "import pandas as pd\n",
    "import pylab\n",
    "import re\n",
    "import scipy as sp\n",
    "import seaborn\n",
    "\n",
    "from gensim import corpora, models\n",
    "from nltk.corpus import stopwords\n",
    "from sklearn import metrics\n",
    "from sklearn.metrics import classification_report\n",
    "from sklearn.discriminant_analysis import LinearDiscriminantAnalysis as LDA\n",
    "\n",
    "from scipy import stats\n",
    "from scipy.sparse import issparse\n",
    "from abc import ABCMeta, abstractmethod\n",
    "from sklearn.base import BaseEstimator, ClassifierMixin\n",
    "#from sklearn.base import ClassifierMixin\n",
    "from sklearn.preprocessing import LabelBinarizer\n",
    "from sklearn.utils import check_X_y, check_array, _get_n_jobs, gen_even_slices\n",
    "from sklearn.utils.extmath import safe_sparse_dot\n",
    "from sklearn.utils.extmath import weighted_mode\n",
    "from sklearn.utils.validation import check_is_fitted\n",
    "from sklearn.utils.multiclass import check_classification_targets\n",
    "from sklearn.utils import check_array\n",
    "from sklearn.externals import six\n",
    " \n",
    "from __future__ import division\n",
    "import threading\n",
    "from scipy.sparse import hstack as sparse_hstack\n",
    "from sklearn.externals.joblib import Parallel, delayed\n",
    "from sklearn.tree import DecisionTreeClassifier\n",
    "from sklearn.tree._tree import DTYPE, DOUBLE\n",
    "from sklearn.ensemble.base import BaseEnsemble, _partition_estimators\n",
    "from sklearn.utils.fixes import parallel_helper\n",
    "\n",
    "from sklearn.feature_extraction.text import TfidfVectorizer\n",
    "from sklearn.linear_model import LogisticRegression\n",
    "from sklearn.metrics import accuracy_score\n",
    "from sklearn.metrics import roc_curve, auc\n",
    "from sklearn.metrics import pairwise\n",
    "from sklearn.exceptions import DataConversionWarning, NotFittedError\n",
    "from sklearn.utils.extmath import weighted_mode\n",
    "\n",
    "from sklearn.neighbors.base import NeighborsBase\n",
    "from sklearn.neighbors.ball_tree import BallTree\n",
    "from sklearn.neighbors.kd_tree import KDTree\n",
    "    \n",
    "    \n",
    "plt.rc('figure', figsize=(10,6))\n",
    "seaborn.set()\n",
    "colors = seaborn.color_palette()"
   ]
  },
  {
   "cell_type": "code",
   "execution_count": 3,
   "metadata": {},
   "outputs": [],
   "source": [
    "business_data = pd.read_csv('business.csv', dtype=unicode)\n",
    "review_data = pd.read_csv('review.csv')\n",
    "user_data = pd.read_csv('user.csv')"
   ]
  },
  {
   "cell_type": "code",
   "execution_count": 4,
   "metadata": {},
   "outputs": [],
   "source": [
    "review_user_data = review_data.merge(user_data,\n",
    "                                     left_on='user_id',\n",
    "                                     right_on='user_id',\n",
    "                                     how='outer',\n",
    "                                     suffixes=('_review', '_user'))"
   ]
  },
  {
   "cell_type": "code",
   "execution_count": 5,
   "metadata": {},
   "outputs": [],
   "source": [
    "business_review_user_data = review_user_data.merge(business_data,\n",
    "                                                   left_on='business_id',\n",
    "                                                   right_on='business_id',\n",
    "                                                   how='outer',\n",
    "                                                   suffixes=('_reviewuser', '_business'))"
   ]
  },
  {
   "cell_type": "code",
   "execution_count": 6,
   "metadata": {
    "scrolled": true
   },
   "outputs": [],
   "source": [
    "business_review_user_data = business_review_user_data.rename(columns = {'name_reviewuser':'name_user',\n",
    "                                                                        'review_count_reviewuser':'review_count_user',\n",
    "                                                                        'stars_reviewuser':'stars_review'})"
   ]
  },
  {
   "cell_type": "code",
   "execution_count": 7,
   "metadata": {},
   "outputs": [
    {
     "name": "stderr",
     "output_type": "stream",
     "text": [
      "c:\\python27\\lib\\site-packages\\ipykernel_launcher.py:4: DeprecationWarning: \n",
      ".ix is deprecated. Please use\n",
      ".loc for label based indexing or\n",
      ".iloc for positional indexing\n",
      "\n",
      "See the documentation here:\n",
      "http://pandas.pydata.org/pandas-docs/stable/indexing.html#ix-indexer-is-deprecated\n",
      "  after removing the cwd from sys.path.\n"
     ]
    }
   ],
   "source": [
    "cols = business_review_user_data.columns\n",
    "cols = cols.map(lambda x: x.replace(' ', '_').lower() if isinstance(x, (str, unicode)) else x)\n",
    "business_review_user_data.columns = cols\n",
    "firstFewRows = business_review_user_data.ix[:,['categories','text','stars_review','business_id']]\n",
    "firstFewRowsList = firstFewRows['categories'].tolist()\n",
    "restaurantsDF = firstFewRows[firstFewRows['categories'].str.contains('Restaurants')]"
   ]
  },
  {
   "cell_type": "code",
   "execution_count": 8,
   "metadata": {},
   "outputs": [
    {
     "data": {
      "text/plain": [
       "Text(0,0.5,u'Number of reviews')"
      ]
     },
     "execution_count": 8,
     "metadata": {},
     "output_type": "execute_result"
    },
    {
     "data": {
      "image/png": "[encoded data removed]",
      "text/plain": [
       "<matplotlib.figure.Figure at 0x18e2f2b38>"
      ]
     },
     "metadata": {},
     "output_type": "display_data"
    }
   ],
   "source": [
    "restaurantsDF.text.dropna().str.len().hist(bins=30)\n",
    "xlabel('Length of the review')\n",
    "ylabel('Number of reviews')"
   ]
  },
  {
   "cell_type": "code",
   "execution_count": 9,
   "metadata": {},
   "outputs": [
    {
     "data": {
      "image/png": "[encoded data removed]",
      "text/plain": [
       "<matplotlib.figure.Figure at 0x18e2f2f60>"
      ]
     },
     "metadata": {},
     "output_type": "display_data"
    }
   ],
   "source": [
    "bins = [1 ,2 ,3 ,4, 5, 6]\n",
    "restaurantsDF.stars_review.hist(bins=bins, align='left', width=0.93)\n",
    "xticks(bins)\n",
    "xlabel('Rating stars')\n",
    "ylabel('Number of reviews')\n",
    "plt.show()"
   ]
  },
  {
   "cell_type": "code",
   "execution_count": 10,
   "metadata": {},
   "outputs": [],
   "source": [
    "def central_tendency_plot(point, ci, y, color, label):\n",
    "    plt.plot(ci, [y, y], \"-\", color=color, linewidth=4, label=label)\n",
    "    plt.plot(point, y, \"o\", color=color, markersize=10)"
   ]
  },
  {
   "cell_type": "code",
   "execution_count": 11,
   "metadata": {},
   "outputs": [],
   "source": [
    "def plot_error_dist(column, name):\n",
    "    d = column.tolist()\n",
    "    d = [0 if np.math.isnan(x) else x for x in d]\n",
    "    m = np.mean(d)\n",
    "    med = np.median(d)\n",
    "    s = np.std(d)\n",
    "\n",
    "    x = np.linspace(min(d), max(d), 1000)\n",
    "    gauss = lambda x, m, s: (1 / (s * np.sqrt(2 * np.pi)) * np.exp(-0.5 * ((x - m) / s) ** 2))\n",
    "    y = gauss(x, m, s)\n",
    "\n",
    "    bins = np.arange(min(d), max(d)+1, 1)\n",
    "    n, b, patches = plt.hist(d, bins=bins+1, normed=True, align='left', width=0.95)\n",
    "    pylab.xticks(bins)\n",
    "    bin_max = np.max(n)\n",
    "    m_y = bin_max/5\n",
    "    \n",
    "    central_tendency_plot(m, [m - s, m + s], m_y, colors[1], \"std dev\")\n",
    "\n",
    "    ci = np.percentile(d, [16, 84])\n",
    "    central_tendency_plot(med, ci,  m_y - bin_max/10, colors[2], \"68% CI\")\n",
    "    \n",
    "    plt.legend(loc=0)\n",
    "    plt.plot(x, y, color=colors[4])\n",
    "    plt.xlabel('Error')\n",
    "    plt.ylabel('Normalized Frequency')\n",
    "    title = name + ' Error Distribution'\n",
    "    plt.title(title)\n",
    "    plt.show()"
   ]
  },
  {
   "cell_type": "code",
   "execution_count": 12,
   "metadata": {},
   "outputs": [
    {
     "name": "stdout",
     "output_type": "stream",
     "text": [
      "Baseline Rating: 4.0\n"
     ]
    },
    {
     "name": "stderr",
     "output_type": "stream",
     "text": [
      "c:\\python27\\lib\\site-packages\\ipykernel_launcher.py:1: SettingWithCopyWarning: \n",
      "A value is trying to be set on a copy of a slice from a DataFrame.\n",
      "Try using .loc[row_indexer,col_indexer] = value instead\n",
      "\n",
      "See the caveats in the documentation: http://pandas.pydata.org/pandas-docs/stable/indexing.html#indexing-view-versus-copy\n",
      "  \"\"\"Entry point for launching an IPython kernel.\n"
     ]
    }
   ],
   "source": [
    "restaurantsDF['predicted_rating'] = round(sum(restaurantsDF.stars_review)/len(restaurantsDF.index))\n",
    "\n",
    "print \"Baseline Rating:\", round(sum(restaurantsDF.stars_review)/len(restaurantsDF.index))"
   ]
  },
  {
   "cell_type": "code",
   "execution_count": 13,
   "metadata": {},
   "outputs": [],
   "source": [
    "t = restaurantsDF[['stars_review', 'predicted_rating']].dropna(how='any')"
   ]
  },
  {
   "cell_type": "code",
   "execution_count": 14,
   "metadata": {},
   "outputs": [
    {
     "name": "stderr",
     "output_type": "stream",
     "text": [
      "c:\\python27\\lib\\site-packages\\sklearn\\metrics\\classification.py:1135: UndefinedMetricWarning: Precision is ill-defined and being set to 0.0 in labels with no predicted samples.\n",
      "  'precision', 'predicted', average, warn_for)\n",
      "c:\\python27\\lib\\site-packages\\sklearn\\metrics\\classification.py:1135: UndefinedMetricWarning: F-score is ill-defined and being set to 0.0 in labels with no predicted samples.\n",
      "  'precision', 'predicted', average, warn_for)\n"
     ]
    },
    {
     "data": {
      "text/html": [
       "<div>\n",
       "<style scoped>\n",
       "    .dataframe tbody tr th:only-of-type {\n",
       "        vertical-align: middle;\n",
       "    }\n",
       "\n",
       "    .dataframe tbody tr th {\n",
       "        vertical-align: top;\n",
       "    }\n",
       "\n",
       "    .dataframe thead th {\n",
       "        text-align: right;\n",
       "    }\n",
       "</style>\n",
       "<table border=\"1\" class=\"dataframe\">\n",
       "  <thead>\n",
       "    <tr style=\"text-align: right;\">\n",
       "      <th></th>\n",
       "      <th>accuracy</th>\n",
       "      <th>f1_score</th>\n",
       "      <th>precision</th>\n",
       "      <th>recall</th>\n",
       "    </tr>\n",
       "  </thead>\n",
       "  <tbody>\n",
       "    <tr>\n",
       "      <th>Baseline</th>\n",
       "      <td>0.279661</td>\n",
       "      <td>0.087417</td>\n",
       "      <td>0.055932</td>\n",
       "      <td>0.2</td>\n",
       "    </tr>\n",
       "  </tbody>\n",
       "</table>\n",
       "</div>"
      ],
      "text/plain": [
       "          accuracy  f1_score  precision  recall\n",
       "Baseline  0.279661  0.087417   0.055932     0.2"
      ]
     },
     "execution_count": 14,
     "metadata": {},
     "output_type": "execute_result"
    }
   ],
   "source": [
    "precision = metrics.precision_score(t.stars_review, t.predicted_rating, average='macro')\n",
    "recall = metrics.recall_score(t.stars_review, t.predicted_rating, average='macro')\n",
    "f1 = metrics.f1_score(t.stars_review, t.predicted_rating, average='macro')\n",
    "accuracy = accuracy_score(t.stars_review, t.predicted_rating)\n",
    "\n",
    "baselineResult = {}\n",
    "\n",
    "data = {'precision':precision,\n",
    "        'recall':recall,\n",
    "        'f1_score':f1,\n",
    "        'accuracy':accuracy}\n",
    "\n",
    "baselineResult['Baseline'] = data\n",
    "pd.DataFrame(baselineResult).T"
   ]
  },
  {
   "cell_type": "code",
   "execution_count": 15,
   "metadata": {},
   "outputs": [
    {
     "data": {
      "image/png": "[encoded data removed]",
      "text/plain": [
       "<matplotlib.figure.Figure at 0x1e596358>"
      ]
     },
     "metadata": {},
     "output_type": "display_data"
    }
   ],
   "source": [
    "error = restaurantsDF.stars_review - restaurantsDF.predicted_rating\n",
    "plot_error_dist(error, \"Baseline\")"
   ]
  },
  {
   "cell_type": "code",
   "execution_count": 16,
   "metadata": {},
   "outputs": [
    {
     "name": "stdout",
     "output_type": "stream",
     "text": [
      "[nltk_data] Downloading package stopwords to\n",
      "[nltk_data]     C:\\Users\\Heisenberg\\AppData\\Roaming\\nltk_data...\n",
      "[nltk_data]   Package stopwords is already up-to-date!\n"
     ]
    },
    {
     "data": {
      "text/plain": [
       "True"
      ]
     },
     "execution_count": 16,
     "metadata": {},
     "output_type": "execute_result"
    }
   ],
   "source": [
    "nltk.download('stopwords')"
   ]
  },
  {
   "cell_type": "code",
   "execution_count": 17,
   "metadata": {},
   "outputs": [],
   "source": [
    "stoplist = set(stopwords.words(\"english\"))"
   ]
  },
  {
   "cell_type": "code",
   "execution_count": 18,
   "metadata": {},
   "outputs": [],
   "source": [
    "numTopics = 15"
   ]
  },
  {
   "cell_type": "code",
   "execution_count": 19,
   "metadata": {},
   "outputs": [],
   "source": [
    "t = restaurantsDF.dropna(how='all')"
   ]
  },
  {
   "cell_type": "code",
   "execution_count": 20,
   "metadata": {},
   "outputs": [
    {
     "name": "stdout",
     "output_type": "stream",
     "text": [
      "Number of rows selected:"
     ]
    },
    {
     "name": "stderr",
     "output_type": "stream",
     "text": [
      "c:\\python27\\lib\\site-packages\\ipykernel_launcher.py:4: UserWarning: Boolean Series key will be reindexed to match DataFrame index.\n",
      "  after removing the cwd from sys.path.\n"
     ]
    },
    {
     "name": "stdout",
     "output_type": "stream",
     "text": [
      " 85617"
     ]
    },
    {
     "name": "stderr",
     "output_type": "stream",
     "text": [
      "c:\\python27\\lib\\site-packages\\ipykernel_launcher.py:5: UserWarning: Boolean Series key will be reindexed to match DataFrame index.\n",
      "  \"\"\"\n"
     ]
    },
    {
     "name": "stdout",
     "output_type": "stream",
     "text": [
      "\n"
     ]
    }
   ],
   "source": [
    "minReviewLen = 50\n",
    "maxReviewLen = 100\n",
    "\n",
    "print \"Number of rows selected:\",len(t[t.text.str.len() > minReviewLen][t.text.str.len() < maxReviewLen])\n",
    "restaurantsDF = t[t.text.str.len() > minReviewLen][t.text.str.len() < maxReviewLen]"
   ]
  },
  {
   "cell_type": "code",
   "execution_count": 21,
   "metadata": {},
   "outputs": [],
   "source": [
    "def process_reviews(dirty_data_set):\n",
    "    clean_data_set = []\n",
    "    for review in dirty_data_set:\n",
    "        # Remove punctuations\n",
    "        review = re.sub(r'[^a-zA-Z]', ' ', review)\n",
    "        # To lowercase\n",
    "        review = review.lower()\n",
    "        # Remove stop words\n",
    "        texts = [word for word in review.lower().split() if word not in stoplist]\n",
    "        try:\n",
    "            clean_data_set.append(' '.join(texts))\n",
    "        except:\n",
    "            pass\n",
    "    return clean_data_set\n",
    "\n",
    "# Generates a matrix of topic probabilities for each document in matrix\n",
    "# Returns topic_dist for the input corpus, and all_dist, a running sum of all the corpuses\n",
    "def generate_topic_dist_matrix(lda, numTopics, corpus, all_dist, star):\n",
    "    topic_dist = [0] * numTopics\n",
    "    dictionary = corpora.Dictionary.load(\"restaurant_reviews.dict\")\n",
    "    for doc in corpus:\n",
    "        vec = dictionary.doc2bow(doc.lower().split())\n",
    "        output = lda[vec]\n",
    "        highest_prob = 0\n",
    "        highest_topic = 0\n",
    "        temp = [0] * numTopics    # List to keep track of topic distribution for each document\n",
    "        for topic in output:\n",
    "            this_topic, this_prob = topic\n",
    "            temp[this_topic] = this_prob\n",
    "            if this_prob > highest_prob:\n",
    "                highest_prob = this_prob \n",
    "                highest_topic = this_topic\n",
    "        temp.append(star)\n",
    "        all_dist.append(temp)\n",
    "        topic_dist[highest_topic] += 1\n",
    "    return topic_dist, all_dist"
   ]
  },
  {
   "cell_type": "code",
   "execution_count": 22,
   "metadata": {},
   "outputs": [],
   "source": [
    "starsGroup = restaurantsDF.groupby('stars_review')\n",
    "\n",
    "all_1stars_text = starsGroup.get_group(1.0)['text']\n",
    "all_2stars_text = starsGroup.get_group(2.0)['text']\n",
    "all_3stars_text = starsGroup.get_group(3.0)['text']\n",
    "all_4stars_text = starsGroup.get_group(4.0)['text']\n",
    "all_5stars_text = starsGroup.get_group(5.0)['text']\n",
    "\n",
    "all_1stars_labels = [1.0]*len(all_1stars_text)\n",
    "all_2stars_labels = [2.0]*len(all_2stars_text)\n",
    "all_3stars_labels = [3.0]*len(all_3stars_text)\n",
    "all_4stars_labels = [4.0]*len(all_4stars_text)\n",
    "all_5stars_labels = [5.0]*len(all_5stars_text)"
   ]
  },
  {
   "cell_type": "code",
   "execution_count": 23,
   "metadata": {},
   "outputs": [
    {
     "name": "stderr",
     "output_type": "stream",
     "text": [
      "c:\\python27\\lib\\site-packages\\sklearn\\cross_validation.py:41: DeprecationWarning: This module was deprecated in version 0.18 in favor of the model_selection module into which all the refactored classes and functions are moved. Also note that the interface of the new CV iterators are different from that of this module. This module will be removed in 0.20.\n",
      "  \"This module will be removed in 0.20.\", DeprecationWarning)\n"
     ]
    }
   ],
   "source": [
    "from sklearn.cross_validation import train_test_split\n",
    "\n",
    "all_1stars_text_train, all_1stars_text_test, all_1stars_labels_train, all_1stars_labels_test = train_test_split(all_1stars_text, all_1stars_labels, test_size=0.20)\n",
    "all_2stars_text_train, all_2stars_text_test, all_2stars_labels_train, all_2stars_labels_test = train_test_split(all_2stars_text, all_2stars_labels, test_size=0.20)\n",
    "all_3stars_text_train, all_3stars_text_test, all_3stars_labels_train, all_3stars_labels_test = train_test_split(all_3stars_text, all_3stars_labels, test_size=0.20)\n",
    "all_4stars_text_train, all_4stars_text_test, all_4stars_labels_train, all_4stars_labels_test = train_test_split(all_4stars_text, all_4stars_labels, test_size=0.20)\n",
    "all_5stars_text_train, all_5stars_text_test, all_5stars_labels_train, all_5stars_labels_test = train_test_split(all_5stars_text, all_5stars_labels, test_size=0.20)"
   ]
  },
  {
   "cell_type": "code",
   "execution_count": 24,
   "metadata": {},
   "outputs": [
    {
     "name": "stdout",
     "output_type": "stream",
     "text": [
      "Number of 5-star reviews after processing:  34712\n",
      "Number of 4-star reviews after processing:  18714\n",
      "Number of 3-star reviews after processing:  6398\n",
      "Number of 2-star reviews after processing:  3584\n",
      "Number of 1-star reviews after processing:  5084\n"
     ]
    }
   ],
   "source": [
    "# Process the reviews\n",
    "corpus_5stars = process_reviews(all_5stars_text_train)\n",
    "corpus_4stars = process_reviews(all_4stars_text_train)\n",
    "corpus_3stars = process_reviews(all_3stars_text_train)\n",
    "corpus_2stars = process_reviews(all_2stars_text_train)\n",
    "corpus_1stars = process_reviews(all_1stars_text_train)\n",
    "\n",
    "print \"Number of 5-star reviews after processing: \", len(corpus_5stars)\n",
    "print \"Number of 4-star reviews after processing: \", len(corpus_4stars)\n",
    "print \"Number of 3-star reviews after processing: \", len(corpus_3stars)\n",
    "print \"Number of 2-star reviews after processing: \", len(corpus_2stars)\n",
    "print \"Number of 1-star reviews after processing: \", len(corpus_1stars)"
   ]
  },
  {
   "cell_type": "code",
   "execution_count": 25,
   "metadata": {},
   "outputs": [],
   "source": [
    "all_5_4_train = np.append(corpus_5stars, corpus_4stars)\n",
    "all_5_4_3_train = np.append(all_5_4_train, corpus_3stars)\n",
    "all_5_4_3_2_train = np.append(all_5_4_3_train, corpus_2stars)\n",
    "all_text_train = np.append(all_5_4_3_2_train, corpus_1stars)"
   ]
  },
  {
   "cell_type": "code",
   "execution_count": 26,
   "metadata": {},
   "outputs": [],
   "source": [
    "def perform_lda(allReviewsTrain, numTopics):\n",
    "    corpus = []\n",
    "    for review in allReviewsTrain:\n",
    "        # Remove punctuations\n",
    "        review = re.sub(r'[^a-zA-Z]', ' ', review)\n",
    "        # To lowercase\n",
    "        review = review.lower()\n",
    "        # Remove stop words\n",
    "        texts = [word for word in review.lower().split() if word not in stoplist]\n",
    "        try:\n",
    "            corpus.append(texts)\n",
    "        except:\n",
    "            pass\n",
    "\n",
    "    # Build dictionary\n",
    "    dictionary = corpora.Dictionary(corpus)\n",
    "    dictionary.save('restaurant_reviews.dict')\n",
    "        \n",
    "    # Build vectorized corpus\n",
    "    corpus_2 = [dictionary.doc2bow(text) for text in corpus]\n",
    "    #corpora.MmCorpus.serialize('LDA/restaurant_reviews.mm', corpus_2)\n",
    "    \n",
    "    lda = models.LdaModel(corpus_2, num_topics=numTopics, id2word=dictionary)\n",
    "    return lda"
   ]
  },
  {
   "cell_type": "code",
   "execution_count": 27,
   "metadata": {},
   "outputs": [
    {
     "name": "stdout",
     "output_type": "stream",
     "text": [
      "Wall time: 2min 44s\n"
     ]
    }
   ],
   "source": [
    "%time lda = perform_lda(all_text_train, numTopics)"
   ]
  },
  {
   "cell_type": "code",
   "execution_count": 28,
   "metadata": {},
   "outputs": [],
   "source": [
    "topic_dist_list = []\n",
    "\n",
    "# Keep a separate list to count topics\n",
    "topic_dist_5stars = []\n",
    "topic_dist_4stars = []\n",
    "topic_dist_3stars = []\n",
    "topic_dist_2stars = []\n",
    "topic_dist_1stars = []\n",
    "\n",
    "topic_dist_5stars, topic_dist_list = generate_topic_dist_matrix(lda, numTopics, corpus_5stars, topic_dist_list, 5)\n",
    "topic_dist_4stars, topic_dist_list = generate_topic_dist_matrix(lda, numTopics, corpus_4stars, topic_dist_list, 4)\n",
    "topic_dist_3stars, topic_dist_list = generate_topic_dist_matrix(lda, numTopics, corpus_3stars, topic_dist_list, 3)\n",
    "topic_dist_2stars, topic_dist_list = generate_topic_dist_matrix(lda, numTopics, corpus_2stars, topic_dist_list, 2)\n",
    "topic_dist_1stars, topic_dist_list = generate_topic_dist_matrix(lda, numTopics, corpus_1stars, topic_dist_list, 1)\n",
    "\n",
    "cols = []\n",
    "for i in xrange(1, numTopics+1):\n",
    "    cols.append(\"Topic\"+ str(i))\n",
    "cols.append(\"Star\")\n",
    "\n",
    "topic_dist_train_1_2_3_4_5_df = pd.DataFrame(topic_dist_list, columns=cols)"
   ]
  },
  {
   "cell_type": "code",
   "execution_count": 29,
   "metadata": {},
   "outputs": [],
   "source": [
    "# Process the test reviews\n",
    "corpus_5stars = process_reviews(all_5stars_text_test)\n",
    "corpus_4stars = process_reviews(all_4stars_text_test)\n",
    "corpus_3stars = process_reviews(all_3stars_text_test)\n",
    "corpus_2stars = process_reviews(all_2stars_text_test)\n",
    "corpus_1stars = process_reviews(all_1stars_text_test)\n"
   ]
  },
  {
   "cell_type": "code",
   "execution_count": 30,
   "metadata": {},
   "outputs": [],
   "source": [
    "all_5_4_test = np.append(corpus_5stars, corpus_4stars)\n",
    "all_5_4_3_test = np.append(all_5_4_test, corpus_3stars)\n",
    "all_5_4_3_2_test = np.append(all_5_4_3_test, corpus_2stars)\n",
    "all_text_test = np.append(all_5_4_3_2_test, corpus_1stars)"
   ]
  },
  {
   "cell_type": "code",
   "execution_count": 31,
   "metadata": {},
   "outputs": [],
   "source": [
    "topic_dist_list = []\n",
    "\n",
    "# Keep a separate list to count topics\n",
    "topic_dist_5stars = []\n",
    "topic_dist_4stars = []\n",
    "topic_dist_3stars = []\n",
    "topic_dist_2stars = []\n",
    "topic_dist_1stars = []\n",
    "\n",
    "\n",
    "topic_dist_5stars, topic_dist_list = generate_topic_dist_matrix(lda, numTopics, corpus_5stars, topic_dist_list, 5)\n",
    "topic_dist_4stars, topic_dist_list = generate_topic_dist_matrix(lda, numTopics, corpus_4stars, topic_dist_list, 4)\n",
    "topic_dist_3stars, topic_dist_list = generate_topic_dist_matrix(lda, numTopics, corpus_3stars, topic_dist_list, 3)\n",
    "topic_dist_2stars, topic_dist_list = generate_topic_dist_matrix(lda, numTopics, corpus_2stars, topic_dist_list, 2)\n",
    "topic_dist_1stars, topic_dist_list = generate_topic_dist_matrix(lda, numTopics, corpus_1stars, topic_dist_list, 1)\n",
    "\n",
    "cols = []\n",
    "for i in xrange(1, numTopics+1):\n",
    "    cols.append(\"Topic\"+ str(i))\n",
    "cols.append(\"Star\")\n",
    "\n",
    "topic_dist_test_1_2_3_4_5_df = pd.DataFrame(topic_dist_list, columns=cols)"
   ]
  },
  {
   "cell_type": "code",
   "execution_count": 32,
   "metadata": {},
   "outputs": [
    {
     "data": {
      "text/plain": [
       "(17125, 16)"
      ]
     },
     "execution_count": 32,
     "metadata": {},
     "output_type": "execute_result"
    }
   ],
   "source": [
    "topic_dist_test_1_2_3_4_5_df.shape"
   ]
  },
  {
   "cell_type": "code",
   "execution_count": 33,
   "metadata": {},
   "outputs": [
    {
     "data": {
      "text/plain": [
       "(68492, 16)"
      ]
     },
     "execution_count": 33,
     "metadata": {},
     "output_type": "execute_result"
    }
   ],
   "source": [
    "topic_dist_train_1_2_3_4_5_df.shape"
   ]
  },
  {
   "cell_type": "code",
   "execution_count": 34,
   "metadata": {},
   "outputs": [],
   "source": [
    "def getSentiment(x):\n",
    "    if x < 3.5:\n",
    "        return 0\n",
    "    else:\n",
    "        return 1"
   ]
  },
  {
   "cell_type": "code",
   "execution_count": 35,
   "metadata": {},
   "outputs": [],
   "source": [
    "topic_dist_train_1_2_3_4_5_df['Sentiment'] = topic_dist_train_1_2_3_4_5_df['Star'].map(getSentiment)\n",
    "topic_dist_test_1_2_3_4_5_df['Sentiment'] = topic_dist_test_1_2_3_4_5_df['Star'].map(getSentiment)"
   ]
  },
  {
   "cell_type": "code",
   "execution_count": 36,
   "metadata": {
    "scrolled": true
   },
   "outputs": [
    {
     "name": "stdout",
     "output_type": "stream",
     "text": [
      "['Topic1', 'Topic2', 'Topic3', 'Topic4', 'Topic5', 'Topic6', 'Topic7', 'Topic8', 'Topic9', 'Topic10', 'Topic11', 'Topic12', 'Topic13', 'Topic14', 'Topic15']\n"
     ]
    }
   ],
   "source": [
    "features = list(topic_dist_train_1_2_3_4_5_df.columns[:numTopics])\n",
    "print features"
   ]
  },
  {
   "cell_type": "code",
   "execution_count": 37,
   "metadata": {},
   "outputs": [],
   "source": [
    "x_train = topic_dist_train_1_2_3_4_5_df[features]\n",
    "y_train = topic_dist_train_1_2_3_4_5_df['Star']\n",
    "\n",
    "x_test = topic_dist_test_1_2_3_4_5_df[features]\n",
    "y_test = topic_dist_test_1_2_3_4_5_df['Star']\n",
    "\n",
    "LDAResults = {}"
   ]
  },
  {
   "cell_type": "code",
   "execution_count": 38,
   "metadata": {},
   "outputs": [],
   "source": [
    "class KNN(NeighborsBase):\n",
    "   \n",
    "    def __init__(self, n_neighbors=5,\n",
    "                 weights='uniform', algorithm='auto', leaf_size=30,\n",
    "                 p=2, metric='minkowski', metric_params=None, n_jobs=1,\n",
    "                 **kwargs):\n",
    "\n",
    "        self._init_params(n_neighbors=n_neighbors,\n",
    "                          algorithm=algorithm,\n",
    "                          leaf_size=leaf_size, metric=metric, p=p,\n",
    "                          metric_params=metric_params, n_jobs=n_jobs, **kwargs)\n",
    "\n",
    "    def get_neighbors(self, X=None, n_neighbors=None, return_distance=True):\n",
    "        \n",
    "        n_neighbors = self.n_neighbors       \n",
    "        query_is_train = False\n",
    "        X = check_array(X, accept_sparse='csr')\n",
    "        train_size = self._fit_X.shape[0]\n",
    "        n_samples, _ = X.shape\n",
    "        sample_range = np.arange(n_samples)[:, None]\n",
    "        n_jobs = _get_n_jobs(self.n_jobs)\n",
    "        \n",
    "        result = Parallel(n_jobs, backend='threading')(\n",
    "            delayed(self._tree.query, check_pickle=False)(\n",
    "                X[s], n_neighbors, return_distance)\n",
    "            for s in gen_even_slices(X.shape[0], n_jobs)\n",
    "        )\n",
    "        if return_distance:\n",
    "            dist, neigh_ind = tuple(zip(*result))\n",
    "            result = np.vstack(dist), np.vstack(neigh_ind)\n",
    "        else:\n",
    "            result = np.vstack(result)\n",
    "        return result\n",
    "\n",
    "\n",
    "    def get_predictions(self, X):\n",
    "\n",
    "            X = check_array(X, accept_sparse='csr')\n",
    "\n",
    "            neigh_dist, neigh_ind = self.get_neighbors(X)\n",
    "\n",
    "            classes_ = self.classes_\n",
    "            _y = self._y\n",
    "            if not self.outputs_2d_:\n",
    "                _y = self._y.reshape((-1, 1))\n",
    "                classes_ = [self.classes_]\n",
    "\n",
    "            n_outputs = len(classes_)\n",
    "            n_samples = X.shape[0]\n",
    "\n",
    "            y_pred = np.empty((n_samples, n_outputs), dtype=classes_[0].dtype)\n",
    "            for k, classes_k in enumerate(classes_):\n",
    "                mode, _ = stats.mode(_y[neigh_ind, k], axis=1)\n",
    "                mode = np.asarray(mode.ravel(), dtype=np.intp)\n",
    "                y_pred[:, k] = classes_k.take(mode)\n",
    "\n",
    "            if not self.outputs_2d_:\n",
    "                y_pred = y_pred.ravel()\n",
    "\n",
    "            return y_pred\n",
    "\n",
    "    def get_model(self, X, y):\n",
    "        if not isinstance(X, (KDTree, BallTree)):\n",
    "            X, y = check_X_y(X, y, \"csr\", multi_output=True)\n",
    "\n",
    "        if y.ndim == 1 or y.ndim == 2 and y.shape[1] == 1:\n",
    "            if y.ndim != 1:\n",
    "                warnings.warn(\"A column-vector y was passed when a 1d array \"\n",
    "                              \"was expected. Please change the shape of y to \"\n",
    "                              \"(n_samples, ), for example using ravel().\",\n",
    "                              DataConversionWarning, stacklevel=2)\n",
    "\n",
    "            self.outputs_2d_ = False\n",
    "            y = y.reshape((-1, 1))\n",
    "        else:\n",
    "            self.outputs_2d_ = True\n",
    "\n",
    "        check_classification_targets(y)\n",
    "        self.classes_ = []\n",
    "        self._y = np.empty(y.shape, dtype=np.int)\n",
    "        for k in range(self._y.shape[1]):\n",
    "            classes, self._y[:, k] = np.unique(y[:, k], return_inverse=True)\n",
    "            self.classes_.append(classes)\n",
    "\n",
    "        if not self.outputs_2d_:\n",
    "            self.classes_ = self.classes_[0]\n",
    "            self._y = self._y.ravel()\n",
    "\n",
    "        return self._fit(X)"
   ]
  },
  {
   "cell_type": "code",
   "execution_count": 39,
   "metadata": {},
   "outputs": [],
   "source": [
    "\"\"\"Multinomial Naive Bayes Classification\"\"\"\n",
    "\n",
    "class MultinomialNB():\n",
    "\n",
    "    def predict(self, X):\n",
    "        acc_cond_log= self.conditional(X)\n",
    "        return self.classes[np.argmax(acc_cond_log, axis=1)]\n",
    "    \n",
    "    \n",
    "    def fit(self, X, y):\n",
    "        self.alpha = 1.0\n",
    "        self.fit_prior = True\n",
    "        self.class_prior = None\n",
    "\n",
    "        X, y = check_X_y(X, y, 'csr')\n",
    "\n",
    "        labelbin = LabelBinarizer()\n",
    "        Y = labelbin.fit_transform(y)\n",
    "        self.classes = labelbin.classes_\n",
    "        if Y.shape[1] == 1:\n",
    "            Y = np.concatenate((1 - Y, Y), axis=1)\n",
    "\n",
    "        Y = Y.astype(np.float64)\n",
    "        class_prior = self.class_prior\n",
    "        \n",
    "        self.num_classes = np.zeros(Y.shape[1], dtype=np.float64) + Y.sum(axis=0);\n",
    "        self.num_features = np.zeros((Y.shape[1], X.shape[1]),\n",
    "                                       dtype=np.float64) + safe_sparse_dot(Y.T, X);\n",
    "        \n",
    "        self.feature_log_prob = (np.log(self.num_features + self.alpha) -\n",
    "                                  np.log((self.num_features + self.alpha).sum(axis=1).reshape(-1, 1)))\n",
    "        self.modify_class_prior(class_prior=class_prior)\n",
    "        return self\n",
    "        \n",
    "\n",
    "    def conditional(self, X):\n",
    "        check_is_fitted(self, \"classes\")\n",
    "        X = check_array(X, accept_sparse='csr')\n",
    "        return (safe_sparse_dot(X, self.feature_log_prob.T) +\n",
    "                self.class_log_prior)\n",
    "\n",
    "\n",
    "    def modify_class_prior(self, class_prior=None):\n",
    "        n_classes = len(self.classes)\n",
    "        if class_prior is not None:\n",
    "            self.class_log_prior = np.log(class_prior)\n",
    "        elif self.fit_prior:\n",
    "            self.class_log_prior = (np.log(self.num_classes) -\n",
    "                                     np.log(self.num_classes.sum()))\n",
    "        else:\n",
    "            self.class_log_prior = np.zeros(n_classes) - np.log(n_classes)\n",
    "            \n",
    "    def get_model(self,X,Y):\n",
    "        return self.fit(X,Y)\n",
    "    \n",
    "    def get_predictions(self,X):\n",
    "        return self.predict(X)"
   ]
  },
  {
   "cell_type": "code",
   "execution_count": 40,
   "metadata": {},
   "outputs": [],
   "source": [
    "\"\"\"Random Forest Classification\"\"\"\n",
    "\n",
    "def generate_indices(n_samples):\n",
    "    random_instance = np.random.mtrand._rand\n",
    "    indices = random_instance.randint(0, n_samples, n_samples)\n",
    "    return indices\n",
    "\n",
    "def build_trees(tree, X, y, sample_wt):\n",
    "    n_samples = X.shape[0]\n",
    "    if sample_wt is None:\n",
    "        curr_sample_wt = np.ones((n_samples,), dtype=np.float64)\n",
    "    else:\n",
    "        curr_sample_wt = sample_wt.copy()\n",
    "\n",
    "    indices = generate_indices(n_samples)\n",
    "    curr_sample_wt *= np.bincount(indices, minlength=n_samples)\n",
    "\n",
    "    tree.fit(X, y, sample_weight=curr_sample_wt, check_input=False)\n",
    "    \n",
    "    return tree\n",
    "\n",
    "def accumulate_prediction(predict, X, out, lock):\n",
    "        prediction = predict(X, check_input=False)\n",
    "        with lock:\n",
    "            if len(out) == 1:\n",
    "                out[0] += prediction\n",
    "            else:\n",
    "                for i in range(len(out)):\n",
    "                    out[i] += prediction[i]"
   ]
  },
  {
   "cell_type": "code",
   "execution_count": 41,
   "metadata": {},
   "outputs": [],
   "source": [
    "class RandomForestModel(six.with_metaclass(ABCMeta, BaseEnsemble)):\n",
    "    \n",
    "    @abstractmethod\n",
    "    def __init__(self,\n",
    "                 base_estimator,\n",
    "                 n_estimators=100,\n",
    "                 estimator_params=tuple()):\n",
    "        super(RandomForestModel, self).__init__(\n",
    "            base_estimator=base_estimator,\n",
    "            n_estimators=n_estimators,\n",
    "            estimator_params=estimator_params)\n",
    "\n",
    "    def get_model(self, X, y,sample_weight = None):\n",
    "        # Validate or convert input data\n",
    "        X = check_array(X, accept_sparse=\"csc\", dtype=DTYPE)\n",
    "        y = check_array(y, accept_sparse='csc', ensure_2d=False, dtype=None)\n",
    "        if issparse(X):\n",
    "            # Pre-sort indices to avoid that each individual tree of the\n",
    "            # ensemble sorts the indices.\n",
    "            X.sort_indices()\n",
    "\n",
    "        # Remap output\n",
    "        n_samples, self.n_features_ = X.shape\n",
    "        y = np.atleast_1d(y)\n",
    "        \n",
    "        if y.ndim == 1:\n",
    "            y = np.reshape(y, (-1, 1))\n",
    "\n",
    "        self.n_outputs_ = y.shape[1]\n",
    "        y, expanded_class_weight = self.check_y_class_wt(y)\n",
    "\n",
    "        if getattr(y, \"dtype\", None) != DOUBLE or not y.flags.contiguous:\n",
    "            y = np.ascontiguousarray(y, dtype=DOUBLE)\n",
    "\n",
    "        if expanded_class_weight is not None:\n",
    "            sample_weight = expanded_class_weight\n",
    "\n",
    "        # Check parameters\n",
    "        self._validate_estimator()\n",
    "\n",
    "        random_state = np.random.mtrand._rand\n",
    "\n",
    "        # Free allocated memory, if any\n",
    "        self.estimators_ = []\n",
    "        n_more_estimators = self.n_estimators - len(self.estimators_)\n",
    "\n",
    "        trees = []\n",
    "        for i in range(n_more_estimators):\n",
    "            tree = self._make_estimator(append=False,\n",
    "                                        random_state=random_state)\n",
    "            trees.append(tree)\n",
    "\n",
    "        trees = Parallel(n_jobs=2,\n",
    "                         backend=\"threading\")(\n",
    "            delayed(build_trees)(t, X, y, sample_weight)\n",
    "            for i, t in enumerate(trees))\n",
    "\n",
    "        # Collect newly grown trees\n",
    "        self.estimators_.extend(trees)\n",
    "\n",
    "        # Decapsulate classes_ attributes\n",
    "        if hasattr(self, \"classes_\") and self.n_outputs_ == 1:\n",
    "            self.n_classes_ = self.n_classes_[0]\n",
    "            self.classes_ = self.classes_[0]\n",
    "\n",
    "        return self\n",
    "\n",
    "    def check_y_class_wt(self, y):\n",
    "        return y, None\n",
    "    \n",
    "    def check_X(self, X):\n",
    "        return self.estimators_[0]._validate_X_predict(X, check_input=True)"
   ]
  },
  {
   "cell_type": "code",
   "execution_count": 42,
   "metadata": {},
   "outputs": [],
   "source": [
    "class RFClassifier(six.with_metaclass(ABCMeta, RandomForestModel,\n",
    "                                          ClassifierMixin)):\n",
    "\n",
    "    def __init__(self,\n",
    "                 base_estimator=DecisionTreeClassifier(),\n",
    "                 n_estimators=100):\n",
    "\n",
    "        super(RFClassifier, self).__init__(\n",
    "            base_estimator,\n",
    "            n_estimators=n_estimators,\n",
    "            estimator_params=(\"criterion\", \"max_depth\", \"min_samples_split\",\n",
    "                              \"min_samples_leaf\", \"min_weight_fraction_leaf\",\n",
    "                              \"max_features\", \"max_leaf_nodes\",\n",
    "                              \"min_impurity_decrease\", \"min_impurity_split\"))\n",
    "\n",
    "        self.criterion = \"gini\"\n",
    "        self.max_depth = None\n",
    "        self.min_samples_split = 2\n",
    "        self.min_samples_leaf = 1\n",
    "        self.min_weight_fraction_leaf = 0.\n",
    "        self.max_features = \"auto\"\n",
    "        self.max_leaf_nodes = None\n",
    "        self.min_impurity_decrease = 0.\n",
    "        self.min_impurity_split = None\n",
    "\n",
    "    def check_y_class_wt(self, y):\n",
    "        y = np.copy(y)\n",
    "\n",
    "        self.classes_ = []\n",
    "        self.n_classes_ = []\n",
    "\n",
    "        y_store_unique_indices = np.zeros(y.shape, dtype=np.int)\n",
    "        for k in range(self.n_outputs_):\n",
    "            classes_k, y_store_unique_indices[:, k] = np.unique(y[:, k], return_inverse=True)\n",
    "            self.classes_.append(classes_k)\n",
    "            self.n_classes_.append(classes_k.shape[0])\n",
    "        y = y_store_unique_indices\n",
    "\n",
    "        return y, None\n",
    "    \n",
    "    def get_predictions(self, X):\n",
    "        proba = self.predict_proba(X)\n",
    "\n",
    "        if self.n_outputs_ == 1:\n",
    "            return self.classes_.take(np.argmax(proba, axis=1), axis=0)\n",
    "\n",
    "        else:\n",
    "            n_samples = proba[0].shape[0]\n",
    "            predictions = np.zeros((n_samples, self.n_outputs_))\n",
    "\n",
    "            for k in range(self.n_outputs_):\n",
    "                predictions[:, k] = self.classes_[k].take(np.argmax(proba[k],\n",
    "                                                                    axis=1),\n",
    "                                                          axis=0)\n",
    "\n",
    "            return predictions\n",
    "\n",
    "    def predict_proba(self, X):\n",
    "        # Check data\n",
    "        X = self.check_X(X)\n",
    "\n",
    "        # Assign chunk of trees to jobs\n",
    "        n_jobs, _, _ = _partition_estimators(self.n_estimators, 2)\n",
    "\n",
    "        # avoid storing the output of every estimator by summing them here\n",
    "        all_proba = [np.zeros((X.shape[0], j), dtype=np.float64)\n",
    "                     for j in np.atleast_1d(self.n_classes_)]\n",
    "        lock = threading.Lock()\n",
    "        Parallel(n_jobs=n_jobs, backend=\"threading\")(\n",
    "            delayed(accumulate_prediction)(e.predict_proba, X, all_proba, lock)\n",
    "            for e in self.estimators_)\n",
    "\n",
    "        for proba in all_proba:\n",
    "            proba /= len(self.estimators_)\n",
    "\n",
    "        if len(all_proba) == 1:\n",
    "            return all_proba[0]\n",
    "        else:\n",
    "            return all_proba"
   ]
  },
  {
   "cell_type": "code",
   "execution_count": 43,
   "metadata": {
    "scrolled": false
   },
   "outputs": [
    {
     "name": "stderr",
     "output_type": "stream",
     "text": [
      "c:\\python27\\lib\\site-packages\\sklearn\\metrics\\classification.py:1135: UndefinedMetricWarning: Precision and F-score are ill-defined and being set to 0.0 in labels with no predicted samples.\n",
      "  'precision', 'predicted', average, warn_for)\n"
     ]
    }
   ],
   "source": [
    "clfs = [KNN(),MultinomialNB(),RFClassifier()]\n",
    "clf_names = ['K-Nearest Neighbor','Multinomial Naive Bayes','Random Forest']\n",
    "\n",
    "for (i, clf_) in enumerate(clfs):\n",
    "    clf = clf_.get_model(x_train, y_train)\n",
    "    preds = clf.get_predictions(x_test)\n",
    "    \n",
    "    precision = metrics.precision_score(y_test, preds, average = 'micro')\n",
    "    recall = metrics.recall_score(y_test, preds, average = 'micro')\n",
    "    f1 = metrics.f1_score(y_test, preds, average = 'micro')\n",
    "    accuracy = accuracy_score(y_test, preds)\n",
    "    report = classification_report(y_test, preds)\n",
    "    matrix = metrics.confusion_matrix(y_test, preds, labels=starsGroup.groups.keys())\n",
    "    \n",
    "    data = {'precision':precision,\n",
    "            'recall':recall,\n",
    "            'f1_score':f1,\n",
    "            'accuracy':accuracy,\n",
    "            'clf_report':report,\n",
    "            'clf_matrix':matrix,\n",
    "            'y_predicted':preds}\n",
    "    \n",
    "    LDAResults[clf_names[i]] = data"
   ]
  },
  {
   "cell_type": "code",
   "execution_count": 44,
   "metadata": {
    "scrolled": true
   },
   "outputs": [
    {
     "data": {
      "text/html": [
       "<div>\n",
       "<style scoped>\n",
       "    .dataframe tbody tr th:only-of-type {\n",
       "        vertical-align: middle;\n",
       "    }\n",
       "\n",
       "    .dataframe tbody tr th {\n",
       "        vertical-align: top;\n",
       "    }\n",
       "\n",
       "    .dataframe thead th {\n",
       "        text-align: right;\n",
       "    }\n",
       "</style>\n",
       "<table border=\"1\" class=\"dataframe\">\n",
       "  <thead>\n",
       "    <tr style=\"text-align: right;\">\n",
       "      <th></th>\n",
       "      <th>K-Nearest Neighbor</th>\n",
       "      <th>Multinomial Naive Bayes</th>\n",
       "      <th>Random Forest</th>\n",
       "    </tr>\n",
       "  </thead>\n",
       "  <tbody>\n",
       "    <tr>\n",
       "      <th>precision</th>\n",
       "      <td>0.411328</td>\n",
       "      <td>0.506745</td>\n",
       "      <td>0.463708</td>\n",
       "    </tr>\n",
       "    <tr>\n",
       "      <th>recall</th>\n",
       "      <td>0.411328</td>\n",
       "      <td>0.506745</td>\n",
       "      <td>0.463708</td>\n",
       "    </tr>\n",
       "    <tr>\n",
       "      <th>f1_score</th>\n",
       "      <td>0.411328</td>\n",
       "      <td>0.506745</td>\n",
       "      <td>0.463708</td>\n",
       "    </tr>\n",
       "    <tr>\n",
       "      <th>accuracy</th>\n",
       "      <td>0.411328</td>\n",
       "      <td>0.506745</td>\n",
       "      <td>0.463708</td>\n",
       "    </tr>\n",
       "  </tbody>\n",
       "</table>\n",
       "</div>"
      ],
      "text/plain": [
       "          K-Nearest Neighbor Multinomial Naive Bayes Random Forest\n",
       "precision           0.411328                0.506745      0.463708\n",
       "recall              0.411328                0.506745      0.463708\n",
       "f1_score            0.411328                0.506745      0.463708\n",
       "accuracy            0.411328                0.506745      0.463708"
      ]
     },
     "execution_count": 44,
     "metadata": {},
     "output_type": "execute_result"
    }
   ],
   "source": [
    "cols = ['precision', 'recall', 'f1_score', 'accuracy']\n",
    "pd.DataFrame(LDAResults).T[cols].T"
   ]
  },
  {
   "cell_type": "code",
   "execution_count": 45,
   "metadata": {
    "scrolled": true
   },
   "outputs": [
    {
     "name": "stdout",
     "output_type": "stream",
     "text": [
      "-------------------------\n",
      "MODEL: K-Nearest Neighbor\n",
      "-------------------------\n",
      "The precision for this classifier is 0.411328467153\n",
      "The recall for this classifier is    0.411328467153\n",
      "The f1 for this classifier is        0.411328467153\n",
      "The accuracy for this classifier is  0.411328467153\n",
      "Here is the classification report:\n",
      "             precision    recall  f1-score   support\n",
      "\n",
      "          1       0.16      0.14      0.15      1271\n",
      "          2       0.11      0.05      0.07       897\n",
      "          3       0.11      0.07      0.09      1600\n",
      "          4       0.30      0.31      0.31      4679\n",
      "          5       0.54      0.60      0.57      8678\n",
      "\n",
      "avg / total       0.39      0.41      0.40     17125\n",
      "\n",
      "--------------------\n",
      "MODEL: Random Forest\n",
      "--------------------\n",
      "The precision for this classifier is 0.463708029197\n",
      "The recall for this classifier is    0.463708029197\n",
      "The f1 for this classifier is        0.463708029197\n",
      "The accuracy for this classifier is  0.463708029197\n",
      "Here is the classification report:\n",
      "             precision    recall  f1-score   support\n",
      "\n",
      "          1       0.24      0.08      0.12      1271\n",
      "          2       0.11      0.01      0.03       897\n",
      "          3       0.14      0.04      0.06      1600\n",
      "          4       0.31      0.23      0.26      4679\n",
      "          5       0.53      0.77      0.63      8678\n",
      "\n",
      "avg / total       0.39      0.46      0.40     17125\n",
      "\n",
      "------------------------------\n",
      "MODEL: Multinomial Naive Bayes\n",
      "------------------------------\n",
      "The precision for this classifier is 0.506744525547\n",
      "The recall for this classifier is    0.506744525547\n",
      "The f1 for this classifier is        0.506744525547\n",
      "The accuracy for this classifier is  0.506744525547\n",
      "Here is the classification report:\n",
      "             precision    recall  f1-score   support\n",
      "\n",
      "          1       0.00      0.00      0.00      1271\n",
      "          2       0.00      0.00      0.00       897\n",
      "          3       0.00      0.00      0.00      1600\n",
      "          4       0.00      0.00      0.00      4679\n",
      "          5       0.51      1.00      0.67      8678\n",
      "\n",
      "avg / total       0.26      0.51      0.34     17125\n",
      "\n"
     ]
    }
   ],
   "source": [
    "for model, val in LDAResults.iteritems():\n",
    "    print '-------'+'-'*len(model)\n",
    "    print 'MODEL:', model\n",
    "    print '-------'+'-'*len(model)\n",
    "    print 'The precision for this classifier is ' + str(val['precision'])\n",
    "    print 'The recall for this classifier is    ' + str(val['recall'])\n",
    "    print 'The f1 for this classifier is        ' + str(val['f1_score'])\n",
    "    print 'The accuracy for this classifier is  ' + str(val['accuracy'])\n",
    "    print 'Here is the classification report:'\n",
    "    print val['clf_report']"
   ]
  },
  {
   "cell_type": "code",
   "execution_count": 46,
   "metadata": {},
   "outputs": [],
   "source": [
    "vectorizer = TfidfVectorizer()\n",
    "\n",
    "tfidfXtrain = vectorizer.fit_transform(all_text_train)\n",
    "tfidfXtest = vectorizer.transform(all_text_test)\n",
    "\n",
    "tfidfYtrain = topic_dist_train_1_2_3_4_5_df['Star']\n",
    "tfidfYtest = topic_dist_test_1_2_3_4_5_df['Star']"
   ]
  },
  {
   "cell_type": "code",
   "execution_count": 47,
   "metadata": {},
   "outputs": [
    {
     "data": {
      "image/png": "[encoded data removed]",
      "text/plain": [
       "<matplotlib.figure.Figure at 0x181b12a20>"
      ]
     },
     "metadata": {},
     "output_type": "display_data"
    },
    {
     "data": {
      "image/png": "[encoded data removed]",
      "text/plain": [
       "<matplotlib.figure.Figure at 0x181b12668>"
      ]
     },
     "metadata": {},
     "output_type": "display_data"
    },
    {
     "data": {
      "image/png": "[encoded data removed]",
      "text/plain": [
       "<matplotlib.figure.Figure at 0x181b12fd0>"
      ]
     },
     "metadata": {},
     "output_type": "display_data"
    }
   ],
   "source": [
    "for model, val in LDAResults.iteritems():\n",
    "    plt.rc('figure', figsize=(7,4))\n",
    "    y_predicted = val['y_predicted']\n",
    "    \n",
    "    test_data = pd.DataFrame(y_predicted, columns=['predicted_rating'])\n",
    "    test_data['rating'] = tfidfYtest\n",
    "\n",
    "    test_data['error'] = test_data.rating - test_data.predicted_rating\n",
    "    plot_error_dist(test_data.error, model)"
   ]
  },
  {
   "cell_type": "code",
   "execution_count": 48,
   "metadata": {},
   "outputs": [],
   "source": [
    "sentimentXtrain = vectorizer.fit_transform(all_text_train)\n",
    "sentimentXtest = vectorizer.transform(all_text_test)\n",
    "\n",
    "sentimentYtrain = topic_dist_train_1_2_3_4_5_df['Sentiment']\n",
    "sentimentYtest = topic_dist_test_1_2_3_4_5_df['Sentiment']\n",
    "\n",
    "nb_classifier = LogisticRegression().fit(sentimentXtrain, sentimentYtrain)\n",
    "\n",
    "ySentimentTrain = nb_classifier.predict(sentimentXtrain)\n",
    "ySentimentTest = nb_classifier.predict(sentimentXtest)\n",
    "\n",
    "topic_dist_train_1_2_3_4_5_df['Sentiment_Predicted'] = ySentimentTrain\n",
    "topic_dist_test_1_2_3_4_5_df['Sentiment_Predicted'] = ySentimentTest"
   ]
  },
  {
   "cell_type": "code",
   "execution_count": 49,
   "metadata": {},
   "outputs": [
    {
     "name": "stdout",
     "output_type": "stream",
     "text": [
      "['Topic1', 'Topic2', 'Topic3', 'Topic4', 'Topic5', 'Topic6', 'Topic7', 'Topic8', 'Topic9', 'Topic10', 'Topic11', 'Topic12', 'Topic13', 'Topic14', 'Topic15', 'Sentiment_Predicted']\n"
     ]
    }
   ],
   "source": [
    "features = list(topic_dist_train_1_2_3_4_5_df.columns[:numTopics])\n",
    "features.append(topic_dist_train_1_2_3_4_5_df.columns[numTopics+2])\n",
    "print features"
   ]
  },
  {
   "cell_type": "code",
   "execution_count": 50,
   "metadata": {},
   "outputs": [],
   "source": [
    "x_train = topic_dist_train_1_2_3_4_5_df[features]\n",
    "y_train = topic_dist_train_1_2_3_4_5_df['Star']\n",
    "\n",
    "x_test = topic_dist_test_1_2_3_4_5_df[features]\n",
    "y_test = topic_dist_test_1_2_3_4_5_df['Star'] \n",
    "\n",
    "FinalResults = {}"
   ]
  },
  {
   "cell_type": "code",
   "execution_count": 51,
   "metadata": {},
   "outputs": [],
   "source": [
    "clfs = [KNN(),MultinomialNB(),RFClassifier()]\n",
    "clf_names = ['K-Nearest Neighbor','Multinomial Naive Bayes','Random Forest']\n",
    "\n",
    "for (i, clf_) in enumerate(clfs):\n",
    "    clf = clf_.get_model(x_train, y_train)\n",
    "    preds = clf.get_predictions(x_test)\n",
    "    \n",
    "    precision = metrics.precision_score(y_test, preds, average = 'micro')\n",
    "    recall = metrics.recall_score(y_test, preds, average = 'micro')\n",
    "    f1 = metrics.f1_score(y_test, preds, average = 'micro')\n",
    "    accuracy = accuracy_score(y_test, preds)\n",
    "    report = classification_report(y_test, preds)\n",
    "    matrix = metrics.confusion_matrix(y_test, preds, labels=starsGroup.groups.keys())\n",
    "    \n",
    "    data = {'precision':precision,\n",
    "            'recall':recall,\n",
    "            'f1_score':f1,\n",
    "            'accuracy':accuracy,\n",
    "            'clf_report':report,\n",
    "            'clf_matrix':matrix,\n",
    "            'y_predicted':preds}\n",
    "    \n",
    "    FinalResults[clf_names[i]] = data"
   ]
  },
  {
   "cell_type": "code",
   "execution_count": 52,
   "metadata": {},
   "outputs": [
    {
     "data": {
      "text/html": [
       "<div>\n",
       "<style scoped>\n",
       "    .dataframe tbody tr th:only-of-type {\n",
       "        vertical-align: middle;\n",
       "    }\n",
       "\n",
       "    .dataframe tbody tr th {\n",
       "        vertical-align: top;\n",
       "    }\n",
       "\n",
       "    .dataframe thead th {\n",
       "        text-align: right;\n",
       "    }\n",
       "</style>\n",
       "<table border=\"1\" class=\"dataframe\">\n",
       "  <thead>\n",
       "    <tr style=\"text-align: right;\">\n",
       "      <th></th>\n",
       "      <th>K-Nearest Neighbor</th>\n",
       "      <th>Multinomial Naive Bayes</th>\n",
       "      <th>Random Forest</th>\n",
       "    </tr>\n",
       "  </thead>\n",
       "  <tbody>\n",
       "    <tr>\n",
       "      <th>precision</th>\n",
       "      <td>0.496818</td>\n",
       "      <td>0.506745</td>\n",
       "      <td>0.537401</td>\n",
       "    </tr>\n",
       "    <tr>\n",
       "      <th>recall</th>\n",
       "      <td>0.496818</td>\n",
       "      <td>0.506745</td>\n",
       "      <td>0.537401</td>\n",
       "    </tr>\n",
       "    <tr>\n",
       "      <th>f1_score</th>\n",
       "      <td>0.496818</td>\n",
       "      <td>0.506745</td>\n",
       "      <td>0.537401</td>\n",
       "    </tr>\n",
       "    <tr>\n",
       "      <th>accuracy</th>\n",
       "      <td>0.496818</td>\n",
       "      <td>0.506745</td>\n",
       "      <td>0.537401</td>\n",
       "    </tr>\n",
       "  </tbody>\n",
       "</table>\n",
       "</div>"
      ],
      "text/plain": [
       "          K-Nearest Neighbor Multinomial Naive Bayes Random Forest\n",
       "precision           0.496818                0.506745      0.537401\n",
       "recall              0.496818                0.506745      0.537401\n",
       "f1_score            0.496818                0.506745      0.537401\n",
       "accuracy            0.496818                0.506745      0.537401"
      ]
     },
     "execution_count": 52,
     "metadata": {},
     "output_type": "execute_result"
    }
   ],
   "source": [
    "cols = ['precision', 'recall', 'f1_score', 'accuracy']\n",
    "pd.DataFrame(FinalResults).T[cols].T"
   ]
  },
  {
   "cell_type": "code",
   "execution_count": 53,
   "metadata": {},
   "outputs": [
    {
     "name": "stdout",
     "output_type": "stream",
     "text": [
      "-------------------------\n",
      "MODEL: K-Nearest Neighbor\n",
      "-------------------------\n",
      "The precision for this classifier is 0.496817518248\n",
      "The recall for this classifier is    0.496817518248\n",
      "The f1 for this classifier is        0.496817518248\n",
      "The accuracy for this classifier is  0.496817518248\n",
      "Here is the classification report:\n",
      "             precision    recall  f1-score   support\n",
      "\n",
      "          1       0.43      0.53      0.48      1271\n",
      "          2       0.21      0.16      0.18       897\n",
      "          3       0.22      0.13      0.16      1600\n",
      "          4       0.34      0.30      0.32      4679\n",
      "          5       0.62      0.70      0.66      8678\n",
      "\n",
      "avg / total       0.47      0.50      0.48     17125\n",
      "\n",
      "--------------------\n",
      "MODEL: Random Forest\n",
      "--------------------\n",
      "The precision for this classifier is 0.537401459854\n",
      "The recall for this classifier is    0.537401459854\n",
      "The f1 for this classifier is        0.537401459854\n",
      "The accuracy for this classifier is  0.537401459854\n",
      "Here is the classification report:\n",
      "             precision    recall  f1-score   support\n",
      "\n",
      "          1       0.46      0.59      0.52      1271\n",
      "          2       0.31      0.16      0.21       897\n",
      "          3       0.33      0.17      0.23      1600\n",
      "          4       0.35      0.20      0.25      4679\n",
      "          5       0.62      0.82      0.70      8678\n",
      "\n",
      "avg / total       0.49      0.54      0.50     17125\n",
      "\n",
      "------------------------------\n",
      "MODEL: Multinomial Naive Bayes\n",
      "------------------------------\n",
      "The precision for this classifier is 0.506744525547\n",
      "The recall for this classifier is    0.506744525547\n",
      "The f1 for this classifier is        0.506744525547\n",
      "The accuracy for this classifier is  0.506744525547\n",
      "Here is the classification report:\n",
      "             precision    recall  f1-score   support\n",
      "\n",
      "          1       0.00      0.00      0.00      1271\n",
      "          2       0.00      0.00      0.00       897\n",
      "          3       0.00      0.00      0.00      1600\n",
      "          4       0.00      0.00      0.00      4679\n",
      "          5       0.51      1.00      0.67      8678\n",
      "\n",
      "avg / total       0.26      0.51      0.34     17125\n",
      "\n"
     ]
    }
   ],
   "source": [
    "for model, val in FinalResults.iteritems():\n",
    "    print '-------'+'-'*len(model)\n",
    "    print 'MODEL:', model\n",
    "    print '-------'+'-'*len(model)\n",
    "    print 'The precision for this classifier is ' + str(val['precision'])\n",
    "    print 'The recall for this classifier is    ' + str(val['recall'])\n",
    "    print 'The f1 for this classifier is        ' + str(val['f1_score'])\n",
    "    print 'The accuracy for this classifier is  ' + str(val['accuracy'])\n",
    "    print 'Here is the classification report:'\n",
    "    print val['clf_report']"
   ]
  },
  {
   "cell_type": "code",
   "execution_count": 54,
   "metadata": {},
   "outputs": [],
   "source": [
    "# Train Data\n",
    "data_1stars_train = {\"text\": all_1stars_text_train, \"rating\": all_1stars_labels_train}\n",
    "data_1stars_train = pd.DataFrame(data_1stars_train)\n",
    "\n",
    "data_2stars_train = {\"text\": all_2stars_text_train, \"rating\": all_2stars_labels_train}\n",
    "data_2stars_train = pd.DataFrame(data_2stars_train)\n",
    "\n",
    "data_3stars_train = {\"text\": all_3stars_text_train, \"rating\": all_3stars_labels_train}\n",
    "data_3stars_train = pd.DataFrame(data_3stars_train)\n",
    "\n",
    "data_4stars_train = {\"text\": all_4stars_text_train, \"rating\": all_4stars_labels_train}\n",
    "data_4stars_train = pd.DataFrame(data_4stars_train)\n",
    "\n",
    "data_5stars_train = {\"text\": all_5stars_text_train, \"rating\": all_5stars_labels_train}\n",
    "data_5stars_train = pd.DataFrame(data_5stars_train)\n",
    "\n",
    "# Test Data\n",
    "data_1stars_test = {\"text\": all_1stars_text_test, \"rating\": all_1stars_labels_test}\n",
    "data_1stars_test = pd.DataFrame(data_1stars_test)\n",
    "\n",
    "data_2stars_test = {\"text\": all_2stars_text_test, \"rating\": all_2stars_labels_test}\n",
    "data_2stars_test = pd.DataFrame(data_2stars_test)\n",
    "\n",
    "data_3stars_test = {\"text\": all_3stars_text_test, \"rating\": all_3stars_labels_test}\n",
    "data_3stars_test = pd.DataFrame(data_3stars_test)\n",
    "\n",
    "data_4stars_test = {\"text\": all_4stars_text_test, \"rating\": all_4stars_labels_test}\n",
    "data_4stars_test = pd.DataFrame(data_4stars_test)\n",
    "\n",
    "data_5stars_test = {\"text\": all_5stars_text_test, \"rating\": all_5stars_labels_test}\n",
    "data_5stars_test = pd.DataFrame(data_5stars_test)"
   ]
  },
  {
   "cell_type": "code",
   "execution_count": 55,
   "metadata": {},
   "outputs": [
    {
     "name": "stdout",
     "output_type": "stream",
     "text": [
      "Train Data 68492\n",
      "Test Data 17125\n"
     ]
    }
   ],
   "source": [
    "train_pieces = [data_1stars_train, data_2stars_train, data_3stars_train, data_4stars_train, data_5stars_train]\n",
    "train_data = pd.concat(train_pieces, ignore_index=True)\n",
    "train_data['predicted_rating'] = pd.Series('training_data', index=train_data.index)\n",
    "print \"Train Data\", len(train_data)\n",
    "\n",
    "test_pieces = [data_1stars_test, data_2stars_test, data_3stars_test, data_4stars_test, data_5stars_test]\n",
    "test_data = pd.concat(test_pieces, ignore_index=True)\n",
    "print \"Test Data\", len(test_data)"
   ]
  },
  {
   "cell_type": "code",
   "execution_count": 56,
   "metadata": {},
   "outputs": [
    {
     "data": {
      "image/png": "[encoded data removed]",
      "text/plain": [
       "<matplotlib.figure.Figure at 0xa257a400>"
      ]
     },
     "metadata": {},
     "output_type": "display_data"
    },
    {
     "data": {
      "image/png": "[encoded data removed]",
      "text/plain": [
       "<matplotlib.figure.Figure at 0x1676cbc50>"
      ]
     },
     "metadata": {},
     "output_type": "display_data"
    },
    {
     "data": {
      "image/png": "[encoded data removed]",
      "text/plain": [
       "<matplotlib.figure.Figure at 0x1676cb0f0>"
      ]
     },
     "metadata": {},
     "output_type": "display_data"
    }
   ],
   "source": [
    "for model, val in FinalResults.iteritems():\n",
    "    plt.rc('figure', figsize=(7,4))\n",
    "    y_predicted = val['y_predicted']\n",
    "    test_data['predicted_rating'] = pd.Series(y_predicted)\n",
    "    pieces = [train_data, test_data]\n",
    "    all_data = pd.concat(pieces, ignore_index=True)\n",
    "    test_data['error'] = test_data.rating - test_data.predicted_rating\n",
    "    plot_error_dist(test_data.error, model)"
   ]
  },
  {
   "cell_type": "code",
   "execution_count": null,
   "metadata": {},
   "outputs": [],
   "source": []
  }
 ],
 "metadata": {
  "kernelspec": {
   "display_name": "Python 2",
   "language": "python",
   "name": "python2"
  },
  "language_info": {
   "codemirror_mode": {
    "name": "ipython",
    "version": 2
   },
   "file_extension": ".py",
   "mimetype": "text/x-python",
   "name": "python",
   "nbconvert_exporter": "python",
   "pygments_lexer": "ipython2",
   "version": "2.7.14"
  }
 },
 "nbformat": 4,
 "nbformat_minor": 2
}
